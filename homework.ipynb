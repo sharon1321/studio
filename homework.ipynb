{
  "nbformat": 4,
  "nbformat_minor": 0,
  "metadata": {
    "colab": {
      "name": "homework.ipynb",
      "provenance": [],
      "authorship_tag": "ABX9TyPw+gv3YSMHYrRPfHE8PHNS",
      "include_colab_link": true
    },
    "kernelspec": {
      "name": "python3",
      "display_name": "Python 3"
    },
    "language_info": {
      "name": "python"
    }
  },
  "cells": [
    {
      "cell_type": "markdown",
      "metadata": {
        "id": "view-in-github",
        "colab_type": "text"
      },
      "source": [
        "<a href=\"https://colab.research.google.com/github/sharon1321/studio/blob/master/homework.ipynb\" target=\"_parent\"><img src=\"https://colab.research.google.com/assets/colab-badge.svg\" alt=\"Open In Colab\"/></a>"
      ]
    },
    {
      "cell_type": "code",
      "metadata": {
        "colab": {
          "base_uri": "https://localhost:8080/"
        },
        "id": "nrJ_U4F-VmEX",
        "outputId": "c3ba9d2d-ce78-4f6e-ee9b-39e4bcdcc477"
      },
      "source": [
        "!mkdir images\n",
        "\n",
        "!wget  wget --no-check-certificate 'https://docs.google.com/uc?export=download&id=1vHXk7Eg_PA8FgpFSyf8ZQkqgjoAVe7ng'-O images/1.jpg\n",
        "!wget  wget --no-check-certificate 'https://docs.google.com/uc?export=download&id=1WHq4B_GmVKxGI6K7jxS9vK8GeOangpbr'-O images/2.jpg\n",
        "!wget  wget --no-check-certificate 'https://docs.google.com/uc?export=download&id=1FWdNHvkkgxxf8h-Rp2CJKQ9rY8XVGhdy'-O images/3.jpg\n",
        "!wget  wget --no-check-certificate 'https://docs.google.com/uc?export=download&id=1_JmOlY4E4FCNlydDkISbkquLKc3Nc-lT'-O images/4.jpg"
      ],
      "execution_count": 3,
      "outputs": [
        {
          "output_type": "stream",
          "text": [
            "mkdir: cannot create directory ‘images’: File exists\n",
            "--2021-05-27 05:51:50--  http://wget/\n",
            "Resolving wget (wget)... failed: Name or service not known.\n",
            "wget: unable to resolve host address ‘wget’\n",
            "--2021-05-27 05:51:50--  https://docs.google.com/uc?export=download&id=1vHXk7Eg_PA8FgpFSyf8ZQkqgjoAVe7ng-O\n",
            "Resolving docs.google.com (docs.google.com)... 64.233.187.138, 64.233.187.139, 64.233.187.113, ...\n",
            "Connecting to docs.google.com (docs.google.com)|64.233.187.138|:443... connected.\n",
            "HTTP request sent, awaiting response... 404 Not Found\n",
            "2021-05-27 05:51:50 ERROR 404: Not Found.\n",
            "\n",
            "--2021-05-27 05:51:50--  http://images/1.jpg\n",
            "Resolving images (images)... failed: Name or service not known.\n",
            "wget: unable to resolve host address ‘images’\n",
            "--2021-05-27 05:51:50--  http://wget/\n",
            "Resolving wget (wget)... failed: Name or service not known.\n",
            "wget: unable to resolve host address ‘wget’\n",
            "--2021-05-27 05:51:50--  https://docs.google.com/uc?export=download&id=1WHq4B_GmVKxGI6K7jxS9vK8GeOangpbr-O\n",
            "Resolving docs.google.com (docs.google.com)... 64.233.187.100, 64.233.187.113, 64.233.187.101, ...\n",
            "Connecting to docs.google.com (docs.google.com)|64.233.187.100|:443... connected.\n",
            "HTTP request sent, awaiting response... 404 Not Found\n",
            "2021-05-27 05:51:50 ERROR 404: Not Found.\n",
            "\n",
            "--2021-05-27 05:51:50--  http://images/2.jpg\n",
            "Resolving images (images)... failed: Name or service not known.\n",
            "wget: unable to resolve host address ‘images’\n",
            "--2021-05-27 05:51:51--  http://wget/\n",
            "Resolving wget (wget)... failed: Name or service not known.\n",
            "wget: unable to resolve host address ‘wget’\n",
            "--2021-05-27 05:51:51--  https://docs.google.com/uc?export=download&id=1FWdNHvkkgxxf8h-Rp2CJKQ9rY8XVGhdy-O\n",
            "Resolving docs.google.com (docs.google.com)... 64.233.187.138, 64.233.187.100, 64.233.187.139, ...\n",
            "Connecting to docs.google.com (docs.google.com)|64.233.187.138|:443... connected.\n",
            "HTTP request sent, awaiting response... 404 Not Found\n",
            "2021-05-27 05:51:51 ERROR 404: Not Found.\n",
            "\n",
            "--2021-05-27 05:51:51--  http://images/3.jpg\n",
            "Resolving images (images)... failed: Name or service not known.\n",
            "wget: unable to resolve host address ‘images’\n",
            "--2021-05-27 05:51:51--  http://wget/\n",
            "Resolving wget (wget)... failed: Name or service not known.\n",
            "wget: unable to resolve host address ‘wget’\n",
            "--2021-05-27 05:51:51--  https://docs.google.com/uc?export=download&id=1_JmOlY4E4FCNlydDkISbkquLKc3Nc-lT-O\n",
            "Resolving docs.google.com (docs.google.com)... 64.233.187.113, 64.233.187.101, 64.233.187.139, ...\n",
            "Connecting to docs.google.com (docs.google.com)|64.233.187.113|:443... connected.\n",
            "HTTP request sent, awaiting response... 404 Not Found\n",
            "2021-05-27 05:51:51 ERROR 404: Not Found.\n",
            "\n",
            "--2021-05-27 05:51:51--  http://images/4.jpg\n",
            "Resolving images (images)... failed: Name or service not known.\n",
            "wget: unable to resolve host address ‘images’\n"
          ],
          "name": "stdout"
        }
      ]
    },
    {
      "cell_type": "code",
      "metadata": {
        "id": "KpebuORyYRg5"
      },
      "source": [
        "\n"
      ],
      "execution_count": null,
      "outputs": []
    },
    {
      "cell_type": "code",
      "metadata": {
        "id": "-ANm2qz3W-mf"
      },
      "source": [
        ""
      ],
      "execution_count": null,
      "outputs": []
    }
  ]
}